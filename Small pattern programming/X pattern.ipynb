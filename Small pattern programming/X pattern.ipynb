{
 "cells": [
  {
   "cell_type": "code",
   "execution_count": 1,
   "metadata": {},
   "outputs": [
    {
     "name": "stdout",
     "output_type": "stream",
     "text": [
      "*     *\n",
      " *   * \n",
      "  * *  \n",
      "   *   \n",
      "  * *  \n",
      " *   * \n",
      "*     *\n"
     ]
    }
   ],
   "source": [
    "for i in range(7):\n",
    "    for j in range(7):\n",
    "        if i-j==0 or i+j==6:\n",
    "            print(\"*\",end=\"\")\n",
    "        else:\n",
    "            print(end=\" \")\n",
    "    print()"
   ]
  },
  {
   "cell_type": "code",
   "execution_count": null,
   "metadata": {},
   "outputs": [],
   "source": []
  }
 ],
 "metadata": {
  "kernelspec": {
   "display_name": "Python 3",
   "language": "python",
   "name": "python3"
  },
  "language_info": {
   "codemirror_mode": {
    "name": "ipython",
    "version": 3
   },
   "file_extension": ".py",
   "mimetype": "text/x-python",
   "name": "python",
   "nbconvert_exporter": "python",
   "pygments_lexer": "ipython3",
   "version": "3.7.5"
  }
 },
 "nbformat": 4,
 "nbformat_minor": 4
}
