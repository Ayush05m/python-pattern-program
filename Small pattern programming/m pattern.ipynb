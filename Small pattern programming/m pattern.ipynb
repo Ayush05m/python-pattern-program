{
 "cells": [
  {
   "cell_type": "code",
   "execution_count": 2,
   "metadata": {},
   "outputs": [
    {
     "name": "stdout",
     "output_type": "stream",
     "text": [
      "*            \n",
      "   **   **   \n",
      " *    *    * \n",
      " *    *    * \n",
      " *    *    * \n",
      " *    *    * \n",
      " *    *    * \n"
     ]
    }
   ],
   "source": [
    "for i in range(7):\n",
    "    for j in range(13):\n",
    "        if (j==1 and i>1 or ((j==6 or j==11) and i>1)) or j==0 and i==0 or(i==1 and ((j==3 or j==4 or j==8 or j==9))):\n",
    "                print(\"*\",end=\"\")\n",
    "        else:\n",
    "            print(end=\" \")\n",
    "    print()"
   ]
  },
  {
   "cell_type": "code",
   "execution_count": null,
   "metadata": {},
   "outputs": [],
   "source": [
    "(j==3 or j==4 or j==8 or j==9)"
   ]
  }
 ],
 "metadata": {
  "kernelspec": {
   "display_name": "Python 3",
   "language": "python",
   "name": "python3"
  },
  "language_info": {
   "codemirror_mode": {
    "name": "ipython",
    "version": 3
   },
   "file_extension": ".py",
   "mimetype": "text/x-python",
   "name": "python",
   "nbconvert_exporter": "python",
   "pygments_lexer": "ipython3",
   "version": "3.7.5"
  }
 },
 "nbformat": 4,
 "nbformat_minor": 4
}
