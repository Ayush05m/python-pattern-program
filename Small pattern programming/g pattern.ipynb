{
 "cells": [
  {
   "cell_type": "code",
   "execution_count": 57,
   "metadata": {},
   "outputs": [
    {
     "name": "stdout",
     "output_type": "stream",
     "text": [
      "      \n",
      "  *** \n",
      " *   *\n",
      " *   *\n",
      "  *** \n",
      "     *\n",
      "  *** \n",
      "      \n",
      "      \n"
     ]
    }
   ],
   "source": [
    "for i in range(9):\n",
    "    for j in range(1,7):\n",
    "        if ((i==1 or i==4 or i==6) and j>2 and j<6) or (i==2 or i==3) and (j==2 or j==6) or (j==6and i>4 and i<6) :\n",
    "            print(\"*\",end=\"\")\n",
    "        else:\n",
    "            print(end=\" \")\n",
    "    print()"
   ]
  },
  {
   "cell_type": "code",
   "execution_count": null,
   "metadata": {},
   "outputs": [],
   "source": []
  }
 ],
 "metadata": {
  "kernelspec": {
   "display_name": "Python 3",
   "language": "python",
   "name": "python3"
  },
  "language_info": {
   "codemirror_mode": {
    "name": "ipython",
    "version": 3
   },
   "file_extension": ".py",
   "mimetype": "text/x-python",
   "name": "python",
   "nbconvert_exporter": "python",
   "pygments_lexer": "ipython3",
   "version": "3.7.5"
  }
 },
 "nbformat": 4,
 "nbformat_minor": 4
}
