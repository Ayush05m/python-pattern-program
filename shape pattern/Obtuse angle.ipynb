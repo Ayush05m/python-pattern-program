{
 "cells": [
  {
   "cell_type": "code",
   "execution_count": 20,
   "metadata": {},
   "outputs": [
    {
     "name": "stdout",
     "output_type": "stream",
     "text": [
      "                     *\n",
      "                  ***\n",
      "               *****\n",
      "            *******\n",
      "         *********\n",
      "      ***********\n",
      "   *************\n"
     ]
    }
   ],
   "source": [
    "increment=1\n",
    "for i in range(7,0,-1):\n",
    "    for j in range(i,0,-1):\n",
    "        print(\" \",end=\"  \")\n",
    "    print(\"*\"*increment)   \n",
    "    increment+=2;"
   ]
  },
  {
   "cell_type": "code",
   "execution_count": 30,
   "metadata": {},
   "outputs": [
    {
     "name": "stdout",
     "output_type": "stream",
     "text": [
      "               A\n",
      "            BBB\n",
      "         CCCCC\n",
      "      DDDDDDD\n",
      "   EEEEEEEEE\n"
     ]
    }
   ],
   "source": [
    "inc=1\n",
    "char=65\n",
    "for i in range(5,0,-1):\n",
    "    for j in range(i,0,-1):\n",
    "        print(\" \",end=\"  \")\n",
    "    print(chr(char)*inc)   \n",
    "    inc+=2;\n",
    "    char+=1"
   ]
  },
  {
   "cell_type": "code",
   "execution_count": 34,
   "metadata": {},
   "outputs": [
    {
     "name": "stdout",
     "output_type": "stream",
     "text": [
      "               1\n",
      "            222\n",
      "         33333\n",
      "      4444444\n",
      "   555555555\n"
     ]
    }
   ],
   "source": [
    "inc=1\n",
    "num=1\n",
    "for i in range(5,0,-1):\n",
    "    for j in range(i,0,-1):\n",
    "        print(\" \",end=\"  \")\n",
    "    print(str(num)*inc)   \n",
    "    inc+=2;\n",
    "    num+=1"
   ]
  },
  {
   "cell_type": "code",
   "execution_count": null,
   "metadata": {},
   "outputs": [],
   "source": []
  }
 ],
 "metadata": {
  "kernelspec": {
   "display_name": "Python 3",
   "language": "python",
   "name": "python3"
  },
  "language_info": {
   "codemirror_mode": {
    "name": "ipython",
    "version": 3
   },
   "file_extension": ".py",
   "mimetype": "text/x-python",
   "name": "python",
   "nbconvert_exporter": "python",
   "pygments_lexer": "ipython3",
   "version": "3.7.5"
  }
 },
 "nbformat": 4,
 "nbformat_minor": 4
}
