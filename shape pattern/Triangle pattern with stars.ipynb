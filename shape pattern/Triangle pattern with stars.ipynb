{
 "cells": [
  {
   "cell_type": "code",
   "execution_count": 36,
   "metadata": {},
   "outputs": [
    {
     "name": "stdout",
     "output_type": "stream",
     "text": [
      "       *\n",
      "      ***\n",
      "     *****\n",
      "    *******\n",
      "   *********\n",
      "  ***********\n",
      " *************\n"
     ]
    }
   ],
   "source": [
    "increment=1\n",
    "for i in range(7,0,-1):\n",
    "    for j in range(i,0,-1):\n",
    "        print(\"\",end=\" \")\n",
    "    print(\"*\"*increment)   \n",
    "    increment+=2;"
   ]
  },
  {
   "cell_type": "code",
   "execution_count": 43,
   "metadata": {},
   "outputs": [
    {
     "name": "stdout",
     "output_type": "stream",
     "text": [
      "     5\n",
      "    444\n",
      "   33333\n",
      "  2222222\n",
      " 111111111\n"
     ]
    }
   ],
   "source": [
    "increment=1\n",
    "for i in range(5,0,-1):\n",
    "    for j in range(i,0,-1):\n",
    "        print(\"\",end=\" \")\n",
    "    print(str(i)*increment)   \n",
    "    increment+=2;"
   ]
  },
  {
   "cell_type": "code",
   "execution_count": 59,
   "metadata": {},
   "outputs": [
    {
     "name": "stdout",
     "output_type": "stream",
     "text": [
      "     1\n",
      "    222\n",
      "   33333\n",
      "  4444444\n",
      " 555555555\n"
     ]
    }
   ],
   "source": [
    "inc=1\n",
    "num=1\n",
    "for i in range(5,0,-1):\n",
    "    for j in range(i,0,-1):\n",
    "        print(\"\",end=\" \")\n",
    "    print(str(num)*inc)   \n",
    "    inc+=2;\n",
    "    num+=1"
   ]
  },
  {
   "cell_type": "code",
   "execution_count": 95,
   "metadata": {},
   "outputs": [
    {
     "name": "stdout",
     "output_type": "stream",
     "text": [
      "     1\n",
      "    333\n",
      "   55555\n",
      "  7777777\n",
      " 999999999\n"
     ]
    }
   ],
   "source": [
    "inc=1\n",
    "num=1\n",
    "for i in range(5,0,-1):\n",
    "    for j in range(i,0,-1):\n",
    "        print(\"\",end=\" \")\n",
    "    print(str(num)*inc)   \n",
    "    inc+=2;\n",
    "    num+=2"
   ]
  },
  {
   "cell_type": "code",
   "execution_count": 97,
   "metadata": {},
   "outputs": [
    {
     "name": "stdout",
     "output_type": "stream",
     "text": [
      "     1\n",
      "    123\n",
      "   12345\n",
      "  1234567\n",
      " 123456789\n"
     ]
    }
   ],
   "source": [
    "inc=1\n",
    "for i in range(5,0,-1):\n",
    "    for j in range(i,0,-1):\n",
    "        print(\"\",end=\" \")\n",
    "    for z in range(1,inc+1):\n",
    "        print(z,end=\"\")   \n",
    "    inc+=2;\n",
    "    print()"
   ]
  },
  {
   "cell_type": "code",
   "execution_count": 103,
   "metadata": {},
   "outputs": [
    {
     "name": "stdout",
     "output_type": "stream",
     "text": [
      "     1\n",
      "    321\n",
      "   54321\n",
      "  7654321\n",
      " 987654321\n"
     ]
    }
   ],
   "source": [
    "inc=1\n",
    "for i in range(5,0,-1):\n",
    "    for j in range(i,0,-1):\n",
    "        print(\"\",end=\" \")\n",
    "    for z in range(inc,0,-1):\n",
    "        print(z,end=\"\")   \n",
    "    inc+=2;\n",
    "    print()"
   ]
  },
  {
   "cell_type": "code",
   "execution_count": 123,
   "metadata": {},
   "outputs": [
    {
     "name": "stdout",
     "output_type": "stream",
     "text": [
      "    0\n",
      "   101\n",
      "  21012\n",
      " 3210123\n",
      "432101234\n"
     ]
    }
   ],
   "source": [
    "inc=1\n",
    "for i in range(1,6):\n",
    "    for j in range(5,i,-1):\n",
    "        print(\"\",end=\" \")\n",
    "    for z in range(1,inc+1):\n",
    "        print(abs(z-i),end=\"\")   \n",
    "    inc+=2;\n",
    "    print()"
   ]
  },
  {
   "cell_type": "code",
   "execution_count": 133,
   "metadata": {},
   "outputs": [
    {
     "name": "stdout",
     "output_type": "stream",
     "text": [
      "    1\n",
      "   121\n",
      "  12321\n",
      " 1234321\n"
     ]
    }
   ],
   "source": [
    "for i in range(1,5):\n",
    "    for j in range(5,i,-1):\n",
    "        print(\"\",end=\" \")\n",
    "    for z in range(i-1,-i,-1):\n",
    "        print(i-abs(z),end=\"\")\n",
    "    print()"
   ]
  },
  {
   "cell_type": "code",
   "execution_count": 69,
   "metadata": {},
   "outputs": [
    {
     "name": "stdout",
     "output_type": "stream",
     "text": [
      "     A\n",
      "    BBB\n",
      "   CCCCC\n",
      "  DDDDDDD\n",
      " EEEEEEEEE\n"
     ]
    }
   ],
   "source": [
    "inc=1\n",
    "char=65\n",
    "for i in range(5,0,-1):\n",
    "    for j in range(i,0,-1):\n",
    "        print(\"\",end=\" \")\n",
    "    print(chr(char)*inc)   \n",
    "    inc+=2;\n",
    "    char+=1"
   ]
  },
  {
   "cell_type": "code",
   "execution_count": 83,
   "metadata": {},
   "outputs": [
    {
     "name": "stdout",
     "output_type": "stream",
     "text": [
      "     A\n",
      "    CCC\n",
      "   EEEEE\n",
      "  GGGGGGG\n",
      " IIIIIIIII\n"
     ]
    }
   ],
   "source": [
    "inc=1\n",
    "char=65\n",
    "for i in range(5,0,-1):\n",
    "    for j in range(i,0,-1):\n",
    "        print(\"\",end=\" \")\n",
    "    print(chr(char)*inc)   \n",
    "    inc+=2;\n",
    "    char+=2"
   ]
  },
  {
   "cell_type": "code",
   "execution_count": 94,
   "metadata": {},
   "outputs": [
    {
     "name": "stdout",
     "output_type": "stream",
     "text": [
      "     A\n",
      "    ABC\n",
      "   ABCDE\n",
      "  ABCDEFG\n",
      " ABCDEFGHI\n"
     ]
    }
   ],
   "source": [
    "inc=1\n",
    "for i in range(5,0,-1):\n",
    "    for j in range(i,0,-1):\n",
    "        print(\"\",end=\" \")\n",
    "    for z in range(1,inc+1):\n",
    "        print(chr(z+64),end=\"\")   \n",
    "    inc+=2;\n",
    "    print()"
   ]
  },
  {
   "cell_type": "code",
   "execution_count": 122,
   "metadata": {},
   "outputs": [
    {
     "name": "stdout",
     "output_type": "stream",
     "text": [
      "     A\n",
      "    CBA\n",
      "   EDCBA\n",
      "  GFEDCBA\n",
      " IHGFEDCBA\n"
     ]
    }
   ],
   "source": [
    "inc=1\n",
    "for i in range(5,0,-1):\n",
    "    for j in range(i,0,-1):\n",
    "        print(\"\",end=\" \")\n",
    "    for z in range(inc,0,-1):\n",
    "        print(chr(z+64),end=\"\") \n",
    "    inc+=2;\n",
    "    print()"
   ]
  },
  {
   "cell_type": "code",
   "execution_count": 118,
   "metadata": {},
   "outputs": [
    {
     "name": "stdout",
     "output_type": "stream",
     "text": [
      "    A\n",
      "   BAB\n",
      "  CBABC\n",
      " DCBABCD\n",
      "EDCBABCDE\n"
     ]
    }
   ],
   "source": [
    "inc=1\n",
    "for i in range(1,6):\n",
    "    for j in range(5,i,-1):\n",
    "        print(\"\",end=\" \")\n",
    "    for z in range(1,inc+1):\n",
    "        print(chr(abs(z-i)+65),end=\"\")   \n",
    "    inc+=2;\n",
    "    print()"
   ]
  },
  {
   "cell_type": "code",
   "execution_count": 140,
   "metadata": {},
   "outputs": [
    {
     "name": "stdout",
     "output_type": "stream",
     "text": [
      "     A\n",
      "    ABA\n",
      "   ABCBA\n",
      "  ABCDCBA\n",
      " ABCDEDCBA\n"
     ]
    }
   ],
   "source": [
    "for i in range(5):\n",
    "    for j in range(5,i,-1):\n",
    "        print(\"\",end=\" \")\n",
    "    for z in range(i,-(i+1),-1):\n",
    "        print(chr(i-abs(z)+65),end=\"\")\n",
    "    print()"
   ]
  },
  {
   "cell_type": "code",
   "execution_count": null,
   "metadata": {},
   "outputs": [],
   "source": []
  }
 ],
 "metadata": {
  "kernelspec": {
   "display_name": "Python 3",
   "language": "python",
   "name": "python3"
  },
  "language_info": {
   "codemirror_mode": {
    "name": "ipython",
    "version": 3
   },
   "file_extension": ".py",
   "mimetype": "text/x-python",
   "name": "python",
   "nbconvert_exporter": "python",
   "pygments_lexer": "ipython3",
   "version": "3.7.5"
  }
 },
 "nbformat": 4,
 "nbformat_minor": 4
}
